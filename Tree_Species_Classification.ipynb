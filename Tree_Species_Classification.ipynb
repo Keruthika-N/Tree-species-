{
  "nbformat": 4,
  "nbformat_minor": 0,
  "metadata": {
    "colab": {
      "provenance": [],
      "authorship_tag": "ABX9TyNkpwmNIRAQN76hRLKK/Lvx",
      "include_colab_link": true
    },
    "kernelspec": {
      "name": "python3",
      "display_name": "Python 3"
    },
    "language_info": {
      "name": "python"
    }
  },
  "cells": [
    {
      "cell_type": "markdown",
      "metadata": {
        "id": "view-in-github",
        "colab_type": "text"
      },
      "source": [
        "<a href=\"https://colab.research.google.com/github/Keruthika-N/Week-1/blob/main/Tree_Species_Classification.ipynb\" target=\"_parent\"><img src=\"https://colab.research.google.com/assets/colab-badge.svg\" alt=\"Open In Colab\"/></a>"
      ]
    },
    {
      "cell_type": "code",
      "execution_count": null,
      "metadata": {
        "colab": {
          "base_uri": "https://localhost:8080/"
        },
        "id": "Ju49boYkjuLK",
        "outputId": "a477b47c-d0c6-4461-c77f-d6eb143e5bc6"
      },
      "outputs": [
        {
          "output_type": "stream",
          "name": "stdout",
          "text": [
            "Mounted at /content/drive\n"
          ]
        }
      ],
      "source": [
        "from google.colab import drive\n",
        "drive.mount('/content/drive')\n"
      ]
    },
    {
      "cell_type": "code",
      "source": [
        "import os\n",
        "\n",
        "search_filename = 'archive(1).zip'  # Change this to your file name\n",
        "drive_root = '/content/drive/My Drive'\n",
        "\n",
        "# Search recursively\n",
        "for root, dirs, files in os.walk(drive_root):\n",
        "    for file in files:\n",
        "        if file == search_filename:\n",
        "            print(\"✅ File found at:\", os.path.join(root, file))\n"
      ],
      "metadata": {
        "id": "PzwUq7c0phr0",
        "colab": {
          "base_uri": "https://localhost:8080/"
        },
        "outputId": "e5a96547-9471-4e2b-8076-0b628ba7312f"
      },
      "execution_count": null,
      "outputs": [
        {
          "output_type": "stream",
          "name": "stdout",
          "text": [
            "✅ File found at: /content/drive/My Drive/Datasets/archive(1).zip\n"
          ]
        }
      ]
    },
    {
      "cell_type": "code",
      "source": [
        "import zipfile\n",
        "import os\n",
        "\n",
        "# Correct path to your ZIP file\n",
        "zip_path = '/content/drive/My Drive/Datasets/archive(1).zip'\n",
        "\n",
        "# Where to extract the contents\n",
        "extract_path = '/content/tree_species'\n",
        "\n",
        "# Create directory if it doesn't exist\n",
        "os.makedirs(extract_path, exist_ok=True)\n",
        "\n",
        "# Extract ZIP file\n",
        "with zipfile.ZipFile(zip_path, 'r') as zip_ref:\n",
        "    zip_ref.extractall(extract_path)\n",
        "\n",
        "print(\"✅ Extraction complete!\")\n"
      ],
      "metadata": {
        "colab": {
          "base_uri": "https://localhost:8080/"
        },
        "id": "PVKgaWZ7qs6F",
        "outputId": "5dc9ab5b-9a79-46c7-cd78-f8fabcf6350f"
      },
      "execution_count": null,
      "outputs": [
        {
          "output_type": "stream",
          "name": "stdout",
          "text": [
            "✅ Extraction complete!\n"
          ]
        }
      ]
    },
    {
      "cell_type": "code",
      "source": [],
      "metadata": {
        "id": "rzsdpP8W04Bi"
      },
      "execution_count": null,
      "outputs": []
    }
  ]
}